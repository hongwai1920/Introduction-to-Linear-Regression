{
  "nbformat": 4,
  "nbformat_minor": 0,
  "metadata": {
    "colab": {
      "name": "Introduction to Linear Regression.ipynb",
      "provenance": [],
      "collapsed_sections": []
    },
    "kernelspec": {
      "name": "python3",
      "display_name": "Python 3"
    }
  },
  "cells": [
    {
      "cell_type": "code",
      "metadata": {
        "id": "xjAHDgKs53ix",
        "colab_type": "code",
        "colab": {}
      },
      "source": [
        "# import necessary libraries\n",
        "\n",
        "import sklearn.datasets as ds\n",
        "import matplotlib.pyplot as plt\n",
        "import random\n",
        "import pandas as pd\n",
        "import statsmodels.api as sm\n",
        "import statsmodels.stats.api as sms\n",
        "from statsmodels.stats.outliers_influence import variance_inflation_factor\n",
        "import seaborn as sns"
      ],
      "execution_count": 0,
      "outputs": []
    },
    {
      "cell_type": "markdown",
      "metadata": {
        "id": "7rh-Rdv6teOd",
        "colab_type": "text"
      },
      "source": [
        "# 1. Introduction to Linear Regression \n",
        "\n",
        "Linear regression is a predictive model. \n",
        "It is the simplest predictive model with the highest interpretability.\n",
        "\n",
        "## 1.1 Mathematical formulas\n",
        "Mathematically, **univariate** linear regression (one output) involves the following simple formula:\n",
        "$$y = \\beta_0 + \\beta_1 x_1 + \\beta_2 x_2 + \\cdots + \\beta_p x_p + \\epsilon$$\n",
        "where $(x_1,...,x_p)$ are explanatory variables (also called features), $(\\beta_0,\\beta_1,...,\\beta_p)$ are parameters measuring effects of each explanatory variable to response variable and $\\epsilon$ is unobservable random error following normal distribution with mean zero and finite variance.\n",
        "\n",
        "For **multivariate** linear regression (multiple outputs), equation above can be expressed using matrix:\n",
        "$$Y = X\\beta + \\epsilon$$\n",
        "where \n",
        "$$Y = \\begin{pmatrix}\n",
        "y_1 \\\\\n",
        "y_2 \\\\\n",
        "\\vdots \\\\\n",
        "y_n\n",
        "\\end{pmatrix}, \\quad X = \n",
        "\\begin{pmatrix} \n",
        "1 & x_{11} & ... & x_{n1} \\\\\n",
        "1 & x_{21} & ... & x_{n2} \\\\\n",
        "\\vdots & \\vdots & \\ddots & \\vdots \\\\\n",
        "1 & x_{n1} & ... & x_{np}\n",
        "\\end{pmatrix}, \\quad \\beta = \\begin{pmatrix}\n",
        "\\beta_{0} \\\\\n",
        "\\beta_{1} \\\\\n",
        "\\vdots \\\\\n",
        "\\beta_p\n",
        "\\end{pmatrix} \\quad\\text{and} \\quad \\epsilon = \\begin{pmatrix}\n",
        "\\epsilon_1 \\\\\n",
        "\\epsilon_2 \\\\\n",
        "\\vdots \\\\\n",
        "\\epsilon_n \\\\\n",
        "\\end{pmatrix}.$$\n",
        "Note that in the above, we assume that $n$ observations and $p$ features.\n",
        "So, $X$ is an $n\\times(p+1)$ matrix.\n",
        "\n",
        "In linear regression, the main aim is to choose paramters $\\beta$ so that the residual sum of squares (RSS) is minimized:\n",
        "$$RSS = \\| y - \\hat{y} \\|^2_2 = \\| y - X\\beta \\|_2^2$$\n",
        "where $y$ is the vector of observed values, $\\hat{y}$ is the vector of predicted values by the linear regression model and \n",
        "$$\\| (x_1,...,x_n) \\|_2^2 = \\sum_{i=1}^n |x_i|^2 \\quad (\\text{Euclidean distance}).$$\n",
        "Since $\\|x\\|_2^2 = x^Tx,$ applying calculus to minimize RSS leads to \n",
        "$$\\beta = (X^TX)^{-1} X^T y.$$\n",
        "Indeed, \n",
        "\\begin{align*}\n",
        "\\|y - X\\beta\\|_2^2 & = (y - X\\beta)^T (y - X\\beta) \\\\\n",
        "& = y^Ty - y^TX\\beta - \\beta^TX^Ty + \\beta^T X^T X\\beta \\\\\n",
        "& = y^Ty - 2\\beta^TX^Ty + \\beta^T X^T X\\beta \\quad (\\text{since }\\beta^TX^Ty\\in \\mathbb{R}).\n",
        "\\end{align*}\n",
        "Differentiating with respect to $\\beta$ and set it to zero give us \n",
        "$$\\frac{d}{d\\beta}(\\|y - X\\beta\\|_2^2) = -2X^Ty + X^TX\\beta = 0,$$\n",
        "that is, \n",
        "$$\\beta = (X^TX)^{-1}X^Ty.$$"
      ]
    },
    {
      "cell_type": "markdown",
      "metadata": {
        "id": "4cJSspzDCBim",
        "colab_type": "text"
      },
      "source": [
        "## 1.2 Assumptions of Linear Regression\n",
        "\n",
        "Even though linear regression has the highest interpretability among all predictive models, it comes with several assumptions.\n",
        "They are:\n",
        "\n",
        "1. Linear relationship between explanatory and response variables.\n",
        "\n",
        "2. Little or no multicollinearity among explanatory variables.\n",
        "\n",
        "3. Residuals follow a normal distribution.\n",
        "\n",
        "4. Little or no autocorrelation in the residuals.\n",
        "\n",
        "5. Residuals have constant variance.\n",
        "\n",
        "In the following sections, we will use synthetic dataset to verify the assumptions above."
      ]
    },
    {
      "cell_type": "markdown",
      "metadata": {
        "id": "RzPP0kncu-Y5",
        "colab_type": "text"
      },
      "source": [
        "## 1.2.1. Determine linear relationship by scatter plot\n",
        "\n",
        "To check existence of linear relationship between explanatory variable and response variable, one can inspect **scatter plot** of collected data."
      ]
    },
    {
      "cell_type": "code",
      "metadata": {
        "id": "czH3sOmP0k3B",
        "colab_type": "code",
        "outputId": "3e5b4e45-1df4-497b-af76-fc93b718036f",
        "colab": {
          "base_uri": "https://localhost:8080/",
          "height": 483
        }
      },
      "source": [
        "# univarate linear regression\n",
        "n_features = 1\n",
        "\n",
        "num_rows = 4\n",
        "num_cols = 4\n",
        "num_graphs = num_rows * num_cols\n",
        "\n",
        "random.seed(10)\n",
        "\n",
        "_, ax = plt.subplots(num_rows, num_cols, figsize = (15,8))\n",
        "\n",
        "\n",
        "for i in range(num_graphs):\n",
        "  # generate regression dataset\n",
        "  X,y = ds.make_regression(n_samples=100, n_features=1, noise=random.randint(1,500), random_state=i)\n",
        "\n",
        "  # plot regression dataset\n",
        "  ax[i//num_cols, i%num_cols].scatter(X,y)"
      ],
      "execution_count": 3,
      "outputs": [
        {
          "output_type": "display_data",
          "data": {
            "image/png": "[encoded data removed]",
            "text/plain": [
              "<Figure size 1080x576 with 16 Axes>"
            ]
          },
          "metadata": {
            "tags": [],
            "needs_background": "light"
          }
        }
      ]
    },
    {
      "cell_type": "markdown",
      "metadata": {
        "id": "Onnd8raz2KDK",
        "colab_type": "text"
      },
      "source": [
        "By inspecting all scatter plots above, it seems that only three plots have linear relasionship whereas the remaining plots do not have linear relationship.\n",
        "\n",
        "In application, one can transform explanatory variable using Power transform or [Box-Cox transformation](https://en.wikipedia.org/wiki/Power_transform#Box%E2%80%93Cox_transformation) to introduce linearity.\n",
        "However, we will not discuss it here."
      ]
    },
    {
      "cell_type": "markdown",
      "metadata": {
        "id": "VXDIwbMvy6HR",
        "colab_type": "text"
      },
      "source": [
        "## 1.2.2. Little or no multicollinearity among explanatory variables."
      ]
    },
    {
      "cell_type": "markdown",
      "metadata": {
        "id": "jQYFtRvNy6K6",
        "colab_type": "text"
      },
      "source": [
        "In this section, we assume that $p \\geq 2,$ that is, at least two explanatory variables.\n",
        "Otherwise, we do not need to check multicollinearity. \n",
        "\n",
        "We also assume that $p << n$.\n",
        "Otherwise, then the column space of $X$ might not have full rank, which results in $X^T X$ being singular.\n",
        "This is undesirable as the OLS estimates are calculated by\n",
        "$$\\beta = (X^TX)^{-1}X^Ty.$$\n",
        "\n",
        "There are several ways to detect multicollinearity:\n",
        "\n",
        "1. pairwise correlation matrix of explanatory variables or \n",
        "2. Variance Inflation Factor (VIF)"
      ]
    },
    {
      "cell_type": "markdown",
      "metadata": {
        "id": "dKdnR4ElN-t0",
        "colab_type": "text"
      },
      "source": [
        "Let us fix a dataset with 10 features and 100 samples."
      ]
    },
    {
      "cell_type": "code",
      "metadata": {
        "id": "kqFvSAxAOCKe",
        "colab_type": "code",
        "colab": {}
      },
      "source": [
        "# data with 10 features \n",
        "n_features = 10\n",
        "X, y = ds.make_regression(n_samples=100, n_features=n_features, noise=0, random_state=0)\n",
        "X = pd.DataFrame(X)\n",
        "y = pd.DataFrame(y)"
      ],
      "execution_count": 0,
      "outputs": []
    },
    {
      "cell_type": "code",
      "metadata": {
        "id": "pn7xkLxAOPT4",
        "colab_type": "code",
        "colab": {
          "base_uri": "https://localhost:8080/",
          "height": 415
        },
        "outputId": "0fa79359-a49b-41e1-e61b-24680a48d272"
      },
      "source": [
        "X"
      ],
      "execution_count": 6,
      "outputs": [
        {
          "output_type": "execute_result",
          "data": {
            "text/html": [
              "<div>\n",
              "<style scoped>\n",
              "    .dataframe tbody tr th:only-of-type {\n",
              "        vertical-align: middle;\n",
              "    }\n",
              "\n",
              "    .dataframe tbody tr th {\n",
              "        vertical-align: top;\n",
              "    }\n",
              "\n",
              "    .dataframe thead th {\n",
              "        text-align: right;\n",
              "    }\n",
              "</style>\n",
              "<table border=\"1\" class=\"dataframe\">\n",
              "  <thead>\n",
              "    <tr style=\"text-align: right;\">\n",
              "      <th></th>\n",
              "      <th>0</th>\n",
              "      <th>1</th>\n",
              "      <th>2</th>\n",
              "      <th>3</th>\n",
              "      <th>4</th>\n",
              "      <th>5</th>\n",
              "      <th>6</th>\n",
              "      <th>7</th>\n",
              "      <th>8</th>\n",
              "      <th>9</th>\n",
              "    </tr>\n",
              "  </thead>\n",
              "  <tbody>\n",
              "    <tr>\n",
              "      <th>0</th>\n",
              "      <td>-0.502817</td>\n",
              "      <td>-2.288620</td>\n",
              "      <td>0.251484</td>\n",
              "      <td>-0.960504</td>\n",
              "      <td>-0.517519</td>\n",
              "      <td>-0.978830</td>\n",
              "      <td>-0.439190</td>\n",
              "      <td>0.181338</td>\n",
              "      <td>-0.793117</td>\n",
              "      <td>2.412454</td>\n",
              "    </tr>\n",
              "    <tr>\n",
              "      <th>1</th>\n",
              "      <td>-0.448165</td>\n",
              "      <td>-2.004216</td>\n",
              "      <td>0.376877</td>\n",
              "      <td>-0.023423</td>\n",
              "      <td>-0.932741</td>\n",
              "      <td>-1.263068</td>\n",
              "      <td>0.452489</td>\n",
              "      <td>0.097896</td>\n",
              "      <td>1.079195</td>\n",
              "      <td>-0.649338</td>\n",
              "    </tr>\n",
              "    <tr>\n",
              "      <th>2</th>\n",
              "      <td>-0.074668</td>\n",
              "      <td>0.507239</td>\n",
              "      <td>-0.116230</td>\n",
              "      <td>0.275601</td>\n",
              "      <td>0.365849</td>\n",
              "      <td>1.297825</td>\n",
              "      <td>0.481115</td>\n",
              "      <td>2.759355</td>\n",
              "      <td>1.435049</td>\n",
              "      <td>0.258716</td>\n",
              "    </tr>\n",
              "    <tr>\n",
              "      <th>3</th>\n",
              "      <td>-0.311976</td>\n",
              "      <td>-0.792287</td>\n",
              "      <td>-0.531606</td>\n",
              "      <td>-1.006832</td>\n",
              "      <td>1.592771</td>\n",
              "      <td>-0.258573</td>\n",
              "      <td>0.308331</td>\n",
              "      <td>-1.378083</td>\n",
              "      <td>1.681577</td>\n",
              "      <td>-0.840290</td>\n",
              "    </tr>\n",
              "    <tr>\n",
              "      <th>4</th>\n",
              "      <td>2.497200</td>\n",
              "      <td>-0.104343</td>\n",
              "      <td>-0.988002</td>\n",
              "      <td>0.564009</td>\n",
              "      <td>-0.505358</td>\n",
              "      <td>-0.815792</td>\n",
              "      <td>-0.507518</td>\n",
              "      <td>-1.051880</td>\n",
              "      <td>-1.284552</td>\n",
              "      <td>-2.245322</td>\n",
              "    </tr>\n",
              "    <tr>\n",
              "      <th>...</th>\n",
              "      <td>...</td>\n",
              "      <td>...</td>\n",
              "      <td>...</td>\n",
              "      <td>...</td>\n",
              "      <td>...</td>\n",
              "      <td>...</td>\n",
              "      <td>...</td>\n",
              "      <td>...</td>\n",
              "      <td>...</td>\n",
              "      <td>...</td>\n",
              "    </tr>\n",
              "    <tr>\n",
              "      <th>95</th>\n",
              "      <td>-1.405963</td>\n",
              "      <td>0.115148</td>\n",
              "      <td>-0.379148</td>\n",
              "      <td>-0.110489</td>\n",
              "      <td>-1.550429</td>\n",
              "      <td>0.417319</td>\n",
              "      <td>-0.944368</td>\n",
              "      <td>0.238103</td>\n",
              "      <td>-1.660700</td>\n",
              "      <td>-0.590058</td>\n",
              "    </tr>\n",
              "    <tr>\n",
              "      <th>96</th>\n",
              "      <td>1.732721</td>\n",
              "      <td>1.519995</td>\n",
              "      <td>1.719589</td>\n",
              "      <td>0.370825</td>\n",
              "      <td>-1.446535</td>\n",
              "      <td>0.800298</td>\n",
              "      <td>-0.309114</td>\n",
              "      <td>-0.233467</td>\n",
              "      <td>0.142062</td>\n",
              "      <td>0.684501</td>\n",
              "    </tr>\n",
              "    <tr>\n",
              "      <th>97</th>\n",
              "      <td>-1.601836</td>\n",
              "      <td>0.812674</td>\n",
              "      <td>0.587259</td>\n",
              "      <td>-0.932789</td>\n",
              "      <td>-0.386871</td>\n",
              "      <td>-0.510293</td>\n",
              "      <td>0.183925</td>\n",
              "      <td>-0.385490</td>\n",
              "      <td>1.243319</td>\n",
              "      <td>-0.887181</td>\n",
              "    </tr>\n",
              "    <tr>\n",
              "      <th>98</th>\n",
              "      <td>-1.156182</td>\n",
              "      <td>0.426259</td>\n",
              "      <td>0.676908</td>\n",
              "      <td>1.494485</td>\n",
              "      <td>-1.424061</td>\n",
              "      <td>-0.493320</td>\n",
              "      <td>-0.542861</td>\n",
              "      <td>0.416050</td>\n",
              "      <td>-2.069985</td>\n",
              "      <td>0.781198</td>\n",
              "    </tr>\n",
              "    <tr>\n",
              "      <th>99</th>\n",
              "      <td>0.242118</td>\n",
              "      <td>-2.369587</td>\n",
              "      <td>0.864052</td>\n",
              "      <td>0.936742</td>\n",
              "      <td>-0.222606</td>\n",
              "      <td>-0.913079</td>\n",
              "      <td>-1.681218</td>\n",
              "      <td>-0.888971</td>\n",
              "      <td>1.412328</td>\n",
              "      <td>-0.888720</td>\n",
              "    </tr>\n",
              "  </tbody>\n",
              "</table>\n",
              "<p>100 rows × 10 columns</p>\n",
              "</div>"
            ],
            "text/plain": [
              "           0         1         2  ...         7         8         9\n",
              "0  -0.502817 -2.288620  0.251484  ...  0.181338 -0.793117  2.412454\n",
              "1  -0.448165 -2.004216  0.376877  ...  0.097896  1.079195 -0.649338\n",
              "2  -0.074668  0.507239 -0.116230  ...  2.759355  1.435049  0.258716\n",
              "3  -0.311976 -0.792287 -0.531606  ... -1.378083  1.681577 -0.840290\n",
              "4   2.497200 -0.104343 -0.988002  ... -1.051880 -1.284552 -2.245322\n",
              "..       ...       ...       ...  ...       ...       ...       ...\n",
              "95 -1.405963  0.115148 -0.379148  ...  0.238103 -1.660700 -0.590058\n",
              "96  1.732721  1.519995  1.719589  ... -0.233467  0.142062  0.684501\n",
              "97 -1.601836  0.812674  0.587259  ... -0.385490  1.243319 -0.887181\n",
              "98 -1.156182  0.426259  0.676908  ...  0.416050 -2.069985  0.781198\n",
              "99  0.242118 -2.369587  0.864052  ... -0.888971  1.412328 -0.888720\n",
              "\n",
              "[100 rows x 10 columns]"
            ]
          },
          "metadata": {
            "tags": []
          },
          "execution_count": 6
        }
      ]
    },
    {
      "cell_type": "code",
      "metadata": {
        "id": "B3dsRsrlORhX",
        "colab_type": "code",
        "colab": {
          "base_uri": "https://localhost:8080/",
          "height": 415
        },
        "outputId": "9011315d-b8f7-428c-a919-d1d56bbd2c15"
      },
      "source": [
        "y"
      ],
      "execution_count": 7,
      "outputs": [
        {
          "output_type": "execute_result",
          "data": {
            "text/html": [
              "<div>\n",
              "<style scoped>\n",
              "    .dataframe tbody tr th:only-of-type {\n",
              "        vertical-align: middle;\n",
              "    }\n",
              "\n",
              "    .dataframe tbody tr th {\n",
              "        vertical-align: top;\n",
              "    }\n",
              "\n",
              "    .dataframe thead th {\n",
              "        text-align: right;\n",
              "    }\n",
              "</style>\n",
              "<table border=\"1\" class=\"dataframe\">\n",
              "  <thead>\n",
              "    <tr style=\"text-align: right;\">\n",
              "      <th></th>\n",
              "      <th>0</th>\n",
              "    </tr>\n",
              "  </thead>\n",
              "  <tbody>\n",
              "    <tr>\n",
              "      <th>0</th>\n",
              "      <td>11.885493</td>\n",
              "    </tr>\n",
              "    <tr>\n",
              "      <th>1</th>\n",
              "      <td>-202.400221</td>\n",
              "    </tr>\n",
              "    <tr>\n",
              "      <th>2</th>\n",
              "      <td>469.139796</td>\n",
              "    </tr>\n",
              "    <tr>\n",
              "      <th>3</th>\n",
              "      <td>-175.861033</td>\n",
              "    </tr>\n",
              "    <tr>\n",
              "      <th>4</th>\n",
              "      <td>-278.985867</td>\n",
              "    </tr>\n",
              "    <tr>\n",
              "      <th>...</th>\n",
              "      <td>...</td>\n",
              "    </tr>\n",
              "    <tr>\n",
              "      <th>95</th>\n",
              "      <td>-351.934099</td>\n",
              "    </tr>\n",
              "    <tr>\n",
              "      <th>96</th>\n",
              "      <td>173.924638</td>\n",
              "    </tr>\n",
              "    <tr>\n",
              "      <th>97</th>\n",
              "      <td>-332.351407</td>\n",
              "    </tr>\n",
              "    <tr>\n",
              "      <th>98</th>\n",
              "      <td>-63.277363</td>\n",
              "    </tr>\n",
              "    <tr>\n",
              "      <th>99</th>\n",
              "      <td>-297.237144</td>\n",
              "    </tr>\n",
              "  </tbody>\n",
              "</table>\n",
              "<p>100 rows × 1 columns</p>\n",
              "</div>"
            ],
            "text/plain": [
              "             0\n",
              "0    11.885493\n",
              "1  -202.400221\n",
              "2   469.139796\n",
              "3  -175.861033\n",
              "4  -278.985867\n",
              "..         ...\n",
              "95 -351.934099\n",
              "96  173.924638\n",
              "97 -332.351407\n",
              "98  -63.277363\n",
              "99 -297.237144\n",
              "\n",
              "[100 rows x 1 columns]"
            ]
          },
          "metadata": {
            "tags": []
          },
          "execution_count": 7
        }
      ]
    },
    {
      "cell_type": "code",
      "metadata": {
        "id": "ztNvMdFzOVL3",
        "colab_type": "code",
        "colab": {
          "base_uri": "https://localhost:8080/",
          "height": 287
        },
        "outputId": "c4db8e4d-5121-4245-9d7e-038d994b007b"
      },
      "source": [
        "# check multicollinearity among explanatory variables \n",
        "\n",
        "corr = X.corr()\n",
        "sns.heatmap(corr);"
      ],
      "execution_count": 13,
      "outputs": [
        {
          "output_type": "execute_result",
          "data": {
            "text/plain": [
              "<matplotlib.axes._subplots.AxesSubplot at 0x7fbeda82b1d0>"
            ]
          },
          "metadata": {
            "tags": []
          },
          "execution_count": 13
        },
        {
          "output_type": "display_data",
          "data": {
            "image/png": "[encoded data removed]",
            "text/plain": [
              "<Figure size 432x288 with 2 Axes>"
            ]
          },
          "metadata": {
            "tags": [],
            "needs_background": "light"
          }
        }
      ]
    },
    {
      "cell_type": "markdown",
      "metadata": {
        "id": "vfwhdklsOx64",
        "colab_type": "text"
      },
      "source": [
        "As shown by the correlation matrix heatmap above, all explanatory variables are not pairwise correlated.\n",
        "\n",
        "To determine coefficient of multiple correlation, one needs to use Variance Inflation Factor (VIF).\n",
        "\n",
        "If VIF of an explanatory variable is greater than 10, then it has collinearity with other explanatory variables and thus should be removed. "
      ]
    },
    {
      "cell_type": "code",
      "metadata": {
        "id": "JfdPEgI2OfW_",
        "colab_type": "code",
        "colab": {
          "base_uri": "https://localhost:8080/",
          "height": 79
        },
        "outputId": "f7a9391f-f8e9-4217-db60-fbbdcae5f1dd"
      },
      "source": [
        "vif = [variance_inflation_factor(X.values, i) for i in range(X.shape[1])]\n",
        "pd.DataFrame({'vif': vif}, index=X.columns).T"
      ],
      "execution_count": 22,
      "outputs": [
        {
          "output_type": "execute_result",
          "data": {
            "text/html": [
              "<div>\n",
              "<style scoped>\n",
              "    .dataframe tbody tr th:only-of-type {\n",
              "        vertical-align: middle;\n",
              "    }\n",
              "\n",
              "    .dataframe tbody tr th {\n",
              "        vertical-align: top;\n",
              "    }\n",
              "\n",
              "    .dataframe thead th {\n",
              "        text-align: right;\n",
              "    }\n",
              "</style>\n",
              "<table border=\"1\" class=\"dataframe\">\n",
              "  <thead>\n",
              "    <tr style=\"text-align: right;\">\n",
              "      <th></th>\n",
              "      <th>0</th>\n",
              "      <th>1</th>\n",
              "      <th>2</th>\n",
              "      <th>3</th>\n",
              "      <th>4</th>\n",
              "      <th>5</th>\n",
              "      <th>6</th>\n",
              "      <th>7</th>\n",
              "      <th>8</th>\n",
              "      <th>9</th>\n",
              "    </tr>\n",
              "  </thead>\n",
              "  <tbody>\n",
              "    <tr>\n",
              "      <th>vif</th>\n",
              "      <td>1.098751</td>\n",
              "      <td>1.082689</td>\n",
              "      <td>1.056774</td>\n",
              "      <td>1.087953</td>\n",
              "      <td>1.052662</td>\n",
              "      <td>1.106041</td>\n",
              "      <td>1.042335</td>\n",
              "      <td>1.08916</td>\n",
              "      <td>1.033879</td>\n",
              "      <td>1.093846</td>\n",
              "    </tr>\n",
              "  </tbody>\n",
              "</table>\n",
              "</div>"
            ],
            "text/plain": [
              "            0         1         2  ...        7         8         9\n",
              "vif  1.098751  1.082689  1.056774  ...  1.08916  1.033879  1.093846\n",
              "\n",
              "[1 rows x 10 columns]"
            ]
          },
          "metadata": {
            "tags": []
          },
          "execution_count": 22
        }
      ]
    },
    {
      "cell_type": "markdown",
      "metadata": {
        "id": "fTd3QZfYPpMn",
        "colab_type": "text"
      },
      "source": [
        "From dataframe above, all explanatory variables have VIF less than 10.\n",
        "So, there is no multicollinearity in our data."
      ]
    },
    {
      "cell_type": "markdown",
      "metadata": {
        "id": "GVAzKjHOtjxm",
        "colab_type": "text"
      },
      "source": [
        "## 1.2.3./1.2.4./1.2.5. Residuals follow a normal distribution, Little or no autocorrelation in the residuals and Residuals have constant variance.\n"
      ]
    },
    {
      "cell_type": "markdown",
      "metadata": {
        "id": "91DkXgf7Q1y0",
        "colab_type": "text"
      },
      "source": [
        "In this section, one can use summary function in statsmodel to check the three assumptions above.\n",
        "\n",
        "After checking linearity and multicollinearity, one can fit linear regression to data to obtain OLS estimate $\\beta.$\n",
        "\n",
        "In Python, there are two modules offering linear Regression: **sklearn** and **statsmodel**.\n",
        "\n",
        "Sklearn has a more comprehensive documentation than statsmodel and it has a bigger community.\n",
        "On the other hand, statsmodel offer a comprehensive statistical analysis of OLS in a single function summary.\n",
        "Since our aim of this notebook is to perform statistical analysis, we will use statsmodel to fit data."
      ]
    },
    {
      "cell_type": "code",
      "metadata": {
        "id": "fwHlaj0C7-FH",
        "colab_type": "code",
        "outputId": "792ea094-334c-4f06-8f1b-1159950d595d",
        "colab": {
          "base_uri": "https://localhost:8080/",
          "height": 607
        }
      },
      "source": [
        "X = sm.add_constant(X)\n",
        "\n",
        "model = sm.OLS(y, X).fit()\n",
        "print(model.summary())"
      ],
      "execution_count": 23,
      "outputs": [
        {
          "output_type": "stream",
          "text": [
            "                            OLS Regression Results                            \n",
            "==============================================================================\n",
            "Dep. Variable:                      0   R-squared:                       1.000\n",
            "Model:                            OLS   Adj. R-squared:                  1.000\n",
            "Method:                 Least Squares   F-statistic:                 1.010e+31\n",
            "Date:                Wed, 27 May 2020   Prob (F-statistic):               0.00\n",
            "Time:                        08:29:12   Log-Likelihood:                 2775.2\n",
            "No. Observations:                 100   AIC:                            -5528.\n",
            "Df Residuals:                      89   BIC:                            -5500.\n",
            "Df Model:                          10                                         \n",
            "Covariance Type:            nonrobust                                         \n",
            "==============================================================================\n",
            "                 coef    std err          t      P>|t|      [0.025      0.975]\n",
            "------------------------------------------------------------------------------\n",
            "const       7.017e-14   2.41e-14      2.910      0.005    2.23e-14    1.18e-13\n",
            "0             77.4748   2.42e-14    3.2e+15      0.000      77.475      77.475\n",
            "1              1.4252    2.2e-14   6.49e+13      0.000       1.425       1.425\n",
            "2             34.2104    2.6e-14   1.32e+15      0.000      34.210      34.210\n",
            "3             61.4770   2.75e-14   2.23e+15      0.000      61.477      61.477\n",
            "4             82.1904   2.32e-14   3.54e+15      0.000      82.190      82.190\n",
            "5             70.0529   2.48e-14   2.83e+15      0.000      70.053      70.053\n",
            "6             88.3078   2.56e-14   3.45e+15      0.000      88.308      88.308\n",
            "7             96.6575   2.29e-14   4.22e+15      0.000      96.658      96.658\n",
            "8              3.7130   2.21e-14   1.68e+14      0.000       3.713       3.713\n",
            "9             99.4233   2.32e-14   4.29e+15      0.000      99.423      99.423\n",
            "==============================================================================\n",
            "Omnibus:                        1.168   Durbin-Watson:                   1.800\n",
            "Prob(Omnibus):                  0.558   Jarque-Bera (JB):                0.870\n",
            "Skew:                          -0.226   Prob(JB):                        0.647\n",
            "Kurtosis:                       3.072   Cond. No.                         1.59\n",
            "==============================================================================\n",
            "\n",
            "Warnings:\n",
            "[1] Standard Errors assume that the covariance matrix of the errors is correctly specified.\n"
          ],
          "name": "stdout"
        }
      ]
    },
    {
      "cell_type": "markdown",
      "metadata": {
        "id": "U6lFUGf_-DoH",
        "colab_type": "text"
      },
      "source": [
        "As shown by the statsmodel summary function above, it gives a comprehensive statistical analysis.\n",
        "However, one should understand all terminalogies used above and their interpretations. \n",
        "\n",
        "The first row containing R-squared, Adj. R-squared, F-statistics, etc, analyses the goodness-of-fit of the linear regression model to the data. \n",
        "\n",
        "The second row contains OLS estimates $\\beta$ and their corresponding confidence interval and hypothesis testing (whether they should be zero or not).\n",
        "\n",
        "The third row analyses residuals of the linear regression model.\n"
      ]
    },
    {
      "cell_type": "code",
      "metadata": {
        "id": "vIReWk9k9osC",
        "colab_type": "code",
        "outputId": "6e656dbc-70fb-4233-9285-f9e1631cb9ef",
        "colab": {
          "base_uri": "https://localhost:8080/",
          "height": 276
        }
      },
      "source": [
        "# plot of residual\n",
        "residual = model.resid\n",
        "plt.plot(residual);"
      ],
      "execution_count": 24,
      "outputs": [
        {
          "output_type": "display_data",
          "data": {
            "image/png": "[encoded data removed]",
            "text/plain": [
              "<Figure size 432x288 with 1 Axes>"
            ]
          },
          "metadata": {
            "tags": [],
            "needs_background": "light"
          }
        }
      ]
    },
    {
      "cell_type": "code",
      "metadata": {
        "id": "Pp1638fXAdHn",
        "colab_type": "code",
        "outputId": "6efb7237-85a4-4088-ad0c-9074610ec40d",
        "colab": {
          "base_uri": "https://localhost:8080/",
          "height": 69
        }
      },
      "source": [
        "from scipy.stats import jarque_bera\n",
        "test_stats, p = jarque_bera(residual)\n",
        "\n",
        "print('Jarque-Bera Test')\n",
        "print('test statistics: ', test_stats)\n",
        "print('p-value: ', p)"
      ],
      "execution_count": 25,
      "outputs": [
        {
          "output_type": "stream",
          "text": [
            "Jarque-Bera Test\n",
            "test statistics:  0.8697992561701351\n",
            "p-value:  0.6473296375326874\n"
          ],
          "name": "stdout"
        }
      ]
    },
    {
      "cell_type": "markdown",
      "metadata": {
        "id": "TvDKnXoYDZa2",
        "colab_type": "text"
      },
      "source": [
        "Since p-value in Jarque-Bera test and Omnibus test (omnibus normality test) are more than 0.05, the residuals might follow a normal distribution."
      ]
    },
    {
      "cell_type": "markdown",
      "metadata": {
        "id": "qXz1_GL8IMBB",
        "colab_type": "text"
      },
      "source": [
        "In the [Durbin-Watson test](https://en.wikipedia.org/wiki/Durbin%E2%80%93Watson_statistic), its test statistics is approximately $2(1-r)$ where $r$ is the autocorrelation of residuals.\n",
        "In this case, since its test statistics is $1.794 \\approx 2,$ we conclude that $r \\approx 0,$ that is, residuals have almost zero autorcorrelation."
      ]
    },
    {
      "cell_type": "markdown",
      "metadata": {
        "id": "yj5DOEfjPsNN",
        "colab_type": "text"
      },
      "source": [
        "Heteroskedasticity tests: Breush-Pagan test and Goldfeld-Quandt test\n",
        "\n",
        "In both tests, their null hypothesis is that all variances are the same."
      ]
    },
    {
      "cell_type": "code",
      "metadata": {
        "id": "xdgdAmE9WLx6",
        "colab_type": "code",
        "outputId": "4ff00aad-ab4c-4b34-da17-3afedb2bb310",
        "colab": {
          "base_uri": "https://localhost:8080/",
          "height": 87
        }
      },
      "source": [
        "name = ['Lagrange multiplier statistic', 'p-value', 'f-value', 'f p-value']\n",
        "test = sms.het_breuschpagan(residual, model.model.exog)\n",
        "for x,y in zip(name, test):\n",
        "  print(x,y)"
      ],
      "execution_count": 26,
      "outputs": [
        {
          "output_type": "stream",
          "text": [
            "Lagrange multiplier statistic 48.250734415764704\n",
            "p-value 5.585466483271335e-07\n",
            "f-value 8.298311704565066\n",
            "f p-value 2.2504634830523774e-09\n"
          ],
          "name": "stdout"
        }
      ]
    },
    {
      "cell_type": "markdown",
      "metadata": {
        "id": "dR2-QLdrYAul",
        "colab_type": "text"
      },
      "source": [
        "Since p-values of F-statistics is less than 0.05, residuals have heteroskedasticity."
      ]
    },
    {
      "cell_type": "code",
      "metadata": {
        "id": "Qb1yCrN9Xl1W",
        "colab_type": "code",
        "outputId": "a822537b-0010-431c-c1f3-895c7cd38683",
        "colab": {
          "base_uri": "https://localhost:8080/",
          "height": 52
        }
      },
      "source": [
        "name = ['F statistic', 'p-value']\n",
        "test = sms.het_goldfeldquandt(residual, model.model.exog)\n",
        "for x,y in zip(name, test):\n",
        "  print(x,y)"
      ],
      "execution_count": 27,
      "outputs": [
        {
          "output_type": "stream",
          "text": [
            "F statistic 1.201366726355278\n",
            "p-value 0.2847468129739712\n"
          ],
          "name": "stdout"
        }
      ]
    },
    {
      "cell_type": "markdown",
      "metadata": {
        "id": "Cy1zLsy6Xlt7",
        "colab_type": "text"
      },
      "source": [
        "Since the p-value is greater than 0.05, it suggests that residuals have equal variance.\n",
        "\n",
        "This concludes the introduction of checking liner regression's assumptions."
      ]
    }
  ]
}
